{
  "nbformat": 4,
  "nbformat_minor": 0,
  "metadata": {
    "colab": {
      "private_outputs": true,
      "provenance": []
    },
    "kernelspec": {
      "name": "python3",
      "display_name": "Python 3"
    },
    "language_info": {
      "name": "python"
    }
  },
  "cells": [
    {
      "cell_type": "code",
      "execution_count": null,
      "metadata": {
        "id": "DhqSeBZ_GFlb"
      },
      "outputs": [],
      "source": [
        "import pandas as pd\n",
        "import numpy as np                     # For mathematical calculations\n",
        "import seaborn as sns                  # For data visualization\n",
        "import matplotlib.pyplot as plt        # For plotting graphs\n",
        "%matplotlib inline\n",
        "import warnings                        # To ignore any warnings\n",
        "warnings.filterwarnings(\"ignore\")"
      ]
    },
    {
      "cell_type": "code",
      "source": [
        "from google.colab import files #Share nba.csv file\n",
        "uploaded = files.upload()"
      ],
      "metadata": {
        "id": "rwXIKgpDVBkF"
      },
      "execution_count": null,
      "outputs": []
    },
    {
      "cell_type": "code",
      "source": [
        "from google.colab import files #Share nba.csv file\n",
        "uploaded = files.upload()"
      ],
      "metadata": {
        "id": "IIJ4Q9FuVENO"
      },
      "execution_count": null,
      "outputs": []
    },
    {
      "cell_type": "code",
      "source": [
        "train=pd.read_csv(\"train_21bai1410.csv\")\n",
        "test=pd.read_csv(\"test_21bai1410.csv\")"
      ],
      "metadata": {
        "id": "6bP-QjBrGi3t"
      },
      "execution_count": null,
      "outputs": []
    },
    {
      "cell_type": "code",
      "source": [
        "train_original=train.copy()\n",
        "test_original=test.copy()"
      ],
      "metadata": {
        "id": "odM-qIYkGs5l"
      },
      "execution_count": null,
      "outputs": []
    },
    {
      "cell_type": "code",
      "source": [
        "train.columns"
      ],
      "metadata": {
        "id": "pafQ6nS_GwfF"
      },
      "execution_count": null,
      "outputs": []
    },
    {
      "cell_type": "code",
      "source": [
        "test.columns"
      ],
      "metadata": {
        "id": "t7zzsngQG0zd"
      },
      "execution_count": null,
      "outputs": []
    },
    {
      "cell_type": "code",
      "source": [
        "train.dtypes"
      ],
      "metadata": {
        "id": "dEBqDlffG-nV"
      },
      "execution_count": null,
      "outputs": []
    },
    {
      "cell_type": "code",
      "source": [
        "train.shape, test.shape"
      ],
      "metadata": {
        "id": "V-9Q89dwHA2N"
      },
      "execution_count": null,
      "outputs": []
    },
    {
      "cell_type": "code",
      "source": [
        "train['Loan_Status'].value_counts()"
      ],
      "metadata": {
        "id": "HuRgzAJVHHgO"
      },
      "execution_count": null,
      "outputs": []
    },
    {
      "cell_type": "code",
      "source": [
        "# Normalize can be set to True to print proportions instead of number\n",
        "train['Loan_Status'].value_counts(normalize=True)"
      ],
      "metadata": {
        "id": "L4ILkrTFHMT2"
      },
      "execution_count": null,
      "outputs": []
    },
    {
      "cell_type": "code",
      "source": [
        "train['Loan_Status'].value_counts().plot.bar()"
      ],
      "metadata": {
        "id": "i0mi05f5HTEu"
      },
      "execution_count": null,
      "outputs": []
    },
    {
      "cell_type": "code",
      "source": [
        " plt.subplot(221)\n",
        "train['Gender'].value_counts(normalize=True).plot.bar(figsize=(20,10), title= 'Gender')\n",
        "plt.subplot(222)\n",
        "train['Married'].value_counts(normalize=True).plot.bar(title= 'Married')\n",
        "plt.subplot(223)\n",
        "train['Self_Employed'].value_counts(normalize=True).plot.bar(title= 'Self_Employed')\n",
        "plt.subplot(224)\n",
        "train['Credit_History'].value_counts(normalize=True).plot.bar(title= 'Credit_History')\n",
        "plt.show()"
      ],
      "metadata": {
        "id": "owY04o5gHZnV"
      },
      "execution_count": null,
      "outputs": []
    },
    {
      "cell_type": "code",
      "source": [
        " plt.subplot(131)\n",
        "train['Dependents'].value_counts(normalize=True).plot.bar(figsize=(24,6),title='Dependents')\n",
        "plt.subplot(132)\n",
        "train['Education'].value_counts(normalize=True).plot.bar(title= 'Education')\n",
        "plt.subplot(133)\n",
        "train['Property_Area'].value_counts(normalize=True).plot.bar(title= 'Property_Area')\n",
        "plt.show()"
      ],
      "metadata": {
        "id": "5yYSDtHpHi1V"
      },
      "execution_count": null,
      "outputs": []
    },
    {
      "cell_type": "code",
      "source": [
        " plt.subplot(121)\n",
        "sns.distplot(train['ApplicantIncome']);\n",
        "plt.subplot(122)\n",
        "train['ApplicantIncome'].plot.box(figsize=(16,5))\n",
        "plt.show()"
      ],
      "metadata": {
        "id": "2-IufyvoHr7W"
      },
      "execution_count": null,
      "outputs": []
    },
    {
      "cell_type": "code",
      "source": [
        " plt.subplot(121)\n",
        "df=train.dropna()\n",
        "sns.distplot(train['LoanAmount']);\n",
        "plt.subplot(122)\n",
        "train['LoanAmount'].plot.box(figsize=(16,5))\n",
        "plt.show()"
      ],
      "metadata": {
        "id": "tGvuf4IqHz82"
      },
      "execution_count": null,
      "outputs": []
    },
    {
      "cell_type": "code",
      "source": [
        "Gender=pd.crosstab(train['Gender'],train['Loan_Status'])\n",
        "Gender.div(Gender.sum(1).astype(float), axis=0).plot(kind=\"bar\", figsize=(4,4))"
      ],
      "metadata": {
        "id": "jdkjoAdfH7UW"
      },
      "execution_count": null,
      "outputs": []
    },
    {
      "cell_type": "code",
      "source": [
        "Married=pd.crosstab(train['Married'],train['Loan_Status'])\n",
        "Dependents=pd.crosstab(train['Dependents'],train['Loan_Status'])\n",
        "Education=pd.crosstab(train['Education'],train['Loan_Status'])\n",
        "Self_Employed=pd.crosstab(train['Self_Employed'],train['Loan_Status'])\n",
        "Married.div(Married.sum(1).astype(float), axis=0).plot(kind=\"bar\", figsize=(4,4))\n",
        "plt.show()\n",
        "Dependents.div(Dependents.sum(1).astype(float), axis=0).plot(kind=\"bar\", stacked=True)\n",
        "plt.show()\n",
        "Education.div(Education.sum(1).astype(float), axis=0).plot(kind=\"bar\", figsize=(4,4))\n",
        "plt.show()\n",
        "Self_Employed.div(Self_Employed.sum(1).astype(float),axis=0).plot(kind=\"bar\",figsize=(4,4))\n",
        "plt.show()"
      ],
      "metadata": {
        "id": "QqKcAuFCIDjl"
      },
      "execution_count": null,
      "outputs": []
    },
    {
      "cell_type": "code",
      "source": [
        "Credit_History=pd.crosstab(train['Credit_History'],train['Loan_Status'])\n",
        "Property_Area=pd.crosstab(train['Property_Area'],train['Loan_Status'])\n",
        "Credit_History.div(Credit_History.sum(1).astype(float), axis=0).plot(kind=\"bar\", stacked=True, figsize=(4,4))\n",
        "plt.show()\n",
        "Property_Area.div(Property_Area.sum(1).astype(float), axis=0).plot(kind=\"bar\", stacked=True)\n",
        "plt.show()"
      ],
      "metadata": {
        "id": "F6w-XvMQIKrW"
      },
      "execution_count": null,
      "outputs": []
    },
    {
      "cell_type": "code",
      "source": [
        "train.groupby('Loan_Status')['ApplicantIncome'].mean().plot.bar()"
      ],
      "metadata": {
        "id": "94OOyM_5IQKO"
      },
      "execution_count": null,
      "outputs": []
    },
    {
      "cell_type": "code",
      "source": [
        "bins=[0,2500,4000,6000,81000]\n",
        "group=['Low','Average','High', 'Very high']\n",
        "train['Income_bin']=pd.cut(train['ApplicantIncome'],bins,labels=group)\n",
        "Income_bin=pd.crosstab(train['Income_bin'],train['Loan_Status'])\n",
        "Income_bin.div(Income_bin.sum(1).astype(float), axis=0).plot(kind=\"bar\", stacked=True)\n",
        "plt.xlabel('ApplicantIncome')\n",
        "P = plt.ylabel('Percentage')"
      ],
      "metadata": {
        "id": "G8bWGfwxIVi1"
      },
      "execution_count": null,
      "outputs": []
    },
    {
      "cell_type": "code",
      "source": [
        "bins=[0,1000,3000,42000]\n",
        "group=['Low','Average','High']\n",
        "train['Coapplicant_Income_bin']=pd.cut(train['CoapplicantIncome'],bins,labels=group)\n",
        "Coapplicant_Income_bin=pd.crosstab(train['Coapplicant_Income_bin'],train['Loan_Status'])\n",
        "Coapplicant_Income_bin.div(Coapplicant_Income_bin.sum(1).astype(float), axis=0).plot(kind=\"bar\", stacked=True)\n",
        "plt.xlabel('CoapplicantIncome')\n",
        "P = plt.ylabel('Percentage')"
      ],
      "metadata": {
        "id": "rloHoEeaIpsk"
      },
      "execution_count": null,
      "outputs": []
    },
    {
      "cell_type": "code",
      "source": [
        "train['Total_Income']=train['ApplicantIncome']+train['CoapplicantIncome']\n",
        "bins=[0,2500,4000,6000,81000]\n",
        "group=['Low','Average','High', 'Very high']\n",
        "train['Total_Income_bin']=pd.cut(train['Total_Income'],bins,labels=group)\n",
        "Total_Income_bin=pd.crosstab(train['Total_Income_bin'],train['Loan_Status'])\n",
        "Total_Income_bin.div(Total_Income_bin.sum(1).astype(float), axis=0).plot(kind=\"bar\", stacked=True)\n",
        "plt.xlabel('Total_Income')\n",
        "P = plt.ylabel('Percentage')"
      ],
      "metadata": {
        "id": "y6J94szvIzKW"
      },
      "execution_count": null,
      "outputs": []
    },
    {
      "cell_type": "code",
      "source": [
        "bins=[0,100,200,700]\n",
        "group=['Low','Average','High']\n",
        "train['LoanAmount_bin']=pd.cut(train['LoanAmount'],bins,labels=group)\n",
        "LoanAmount_bin=pd.crosstab(train['LoanAmount_bin'],train['Loan_Status'])\n",
        "LoanAmount_bin.div(LoanAmount_bin.sum(1).astype(float), axis=0).plot(kind=\"bar\", stacked=True)\n",
        "plt.xlabel('LoanAmount')\n",
        "P = plt.ylabel('Percentage')"
      ],
      "metadata": {
        "id": "HSQpohOpI7Nl"
      },
      "execution_count": null,
      "outputs": []
    },
    {
      "cell_type": "code",
      "source": [
        "train=train.drop(['Income_bin', 'Coapplicant_Income_bin',\n",
        " 'LoanAmount_bin', 'Total_Income_bin', 'Total_Income'], axis=1)\n",
        "train['Dependents'].replace('3+', 3,inplace=True)\n",
        "test['Dependents'].replace('3+', 3,inplace=True)\n",
        "train['Loan_Status'].replace('N', 0,inplace=True)\n",
        "train['Loan_Status'].replace('Y', 1,inplace=True)"
      ],
      "metadata": {
        "id": "e-AL_dE5JCae"
      },
      "execution_count": null,
      "outputs": []
    },
    {
      "cell_type": "code",
      "source": [
        "matrix = train.corr()\n",
        "ax = plt.subplots(figsize=(9, 6))\n",
        "sns.heatmap(matrix, vmax=.8, square=True, cmap=\"BuPu\");"
      ],
      "metadata": {
        "id": "EnfOVNAtJJFW"
      },
      "execution_count": null,
      "outputs": []
    },
    {
      "cell_type": "code",
      "source": [
        "train.isnull().sum()"
      ],
      "metadata": {
        "id": "jgiiwvNeKA4W"
      },
      "execution_count": null,
      "outputs": []
    },
    {
      "cell_type": "code",
      "source": [
        "train['Gender'].fillna(train['Gender'].mode()[0], inplace=True)\n",
        "train['Married'].fillna(train['Married'].mode()[0], inplace=True)\n",
        "train['Dependents'].fillna(train['Dependents'].mode()[0], inplace=True)\n",
        "train['Self_Employed'].fillna(train['Self_Employed'].mode()[0], inplace=True)\n",
        "train['Credit_History'].fillna(train['Credit_History'].mode()[0], inplace=True)"
      ],
      "metadata": {
        "id": "1CRsh0H4KHMF"
      },
      "execution_count": null,
      "outputs": []
    },
    {
      "cell_type": "code",
      "source": [
        "train['Loan_Amount_Term'].value_counts()"
      ],
      "metadata": {
        "id": "QQIXCJO4KJUl"
      },
      "execution_count": null,
      "outputs": []
    },
    {
      "cell_type": "code",
      "source": [
        "train['Loan_Amount_Term'].fillna(train['Loan_Amount_Term'].mode()[0], inplace=True)"
      ],
      "metadata": {
        "id": "flgOxPg0KQIu"
      },
      "execution_count": null,
      "outputs": []
    },
    {
      "cell_type": "code",
      "source": [
        "train['LoanAmount'].fillna(train['LoanAmount'].median(), inplace=True)\n"
      ],
      "metadata": {
        "id": "fbgBhFOvKYC2"
      },
      "execution_count": null,
      "outputs": []
    },
    {
      "cell_type": "code",
      "source": [
        "train.isnull().sum()"
      ],
      "metadata": {
        "id": "JLIUyIXcKdyu"
      },
      "execution_count": null,
      "outputs": []
    },
    {
      "cell_type": "code",
      "source": [
        "test['Gender'].fillna(train['Gender'].mode()[0], inplace=True)\n",
        "test['Dependents'].fillna(train['Dependents'].mode()[0], inplace=True)\n",
        "test['Self_Employed'].fillna(train['Self_Employed'].mode()[0], inplace=True)\n",
        "test['Credit_History'].fillna(train['Credit_History'].mode()[0], inplace=True)\n",
        "test['Loan_Amount_Term'].fillna(train['Loan_Amount_Term'].mode()[0], inplace=True)\n",
        "test['LoanAmount'].fillna(train['LoanAmount'].median(), inplace=True)"
      ],
      "metadata": {
        "id": "zNaQxfzWKfPu"
      },
      "execution_count": null,
      "outputs": []
    },
    {
      "cell_type": "code",
      "source": [
        "train['LoanAmount_log'] = np.log(train['LoanAmount'])\n",
        "train['LoanAmount_log'].hist(bins=20)\n",
        "test['LoanAmount_log'] = np.log(test['LoanAmount'])"
      ],
      "metadata": {
        "id": "jMJ5agDZKnhV"
      },
      "execution_count": null,
      "outputs": []
    },
    {
      "cell_type": "code",
      "source": [
        "train=train.drop('Loan_ID',axis=1)\n",
        "test=test.drop('Loan_ID',axis=1)"
      ],
      "metadata": {
        "id": "DB-R5BfHKpmG"
      },
      "execution_count": null,
      "outputs": []
    },
    {
      "cell_type": "code",
      "source": [
        "X = train.drop('Loan_Status',1)\n",
        "y = train.Loan_Status"
      ],
      "metadata": {
        "id": "ZEQVVbH3KxLO"
      },
      "execution_count": null,
      "outputs": []
    },
    {
      "cell_type": "code",
      "source": [
        "X=pd.get_dummies(X)\n",
        "train=pd.get_dummies(train)\n",
        "test=pd.get_dummies(test)"
      ],
      "metadata": {
        "id": "ZtnpnqarK2EN"
      },
      "execution_count": null,
      "outputs": []
    },
    {
      "cell_type": "code",
      "source": [
        "from sklearn.model_selection import train_test_split\n",
        "x_train, x_cv, y_train, y_cv = train_test_split(X,y, test_size =0.3)"
      ],
      "metadata": {
        "id": "wL3HwXIQK6Yv"
      },
      "execution_count": null,
      "outputs": []
    },
    {
      "cell_type": "code",
      "source": [
        "from sklearn.linear_model import LogisticRegression\n",
        "from sklearn.metrics import accuracy_score\n",
        "model = LogisticRegression()\n",
        "model.fit(x_train, y_train)"
      ],
      "metadata": {
        "id": "D2jJ0LemK_KW"
      },
      "execution_count": null,
      "outputs": []
    },
    {
      "cell_type": "code",
      "source": [
        "pred_cv = model.predict(x_cv)"
      ],
      "metadata": {
        "id": "ijYIXEBLLFb2"
      },
      "execution_count": null,
      "outputs": []
    },
    {
      "cell_type": "code",
      "source": [
        "accuracy_score(y_cv,pred_cv)"
      ],
      "metadata": {
        "id": "V8Ie34MiLJXe"
      },
      "execution_count": null,
      "outputs": []
    },
    {
      "cell_type": "code",
      "source": [
        "pred_test = model.predict(test)"
      ],
      "metadata": {
        "id": "52nmHGLSLNgm"
      },
      "execution_count": null,
      "outputs": []
    },
    {
      "cell_type": "code",
      "source": [
        "from google.colab import files #Share nba.csv file\n",
        "uploaded = files.upload()"
      ],
      "metadata": {
        "id": "9LJ0GoiMLapX"
      },
      "execution_count": null,
      "outputs": []
    },
    {
      "cell_type": "code",
      "source": [
        "submission=pd.read_csv(\"sample_submission.csv\")"
      ],
      "metadata": {
        "id": "A0iJGR7MLtK_"
      },
      "execution_count": null,
      "outputs": []
    },
    {
      "cell_type": "code",
      "source": [
        "submission['Loan_Status']=pred_test\n",
        "submission['Loan_ID']=test_original['Loan_ID']"
      ],
      "metadata": {
        "id": "jpiMLDmJL5Mn"
      },
      "execution_count": null,
      "outputs": []
    },
    {
      "cell_type": "code",
      "source": [
        "submission['Loan_Status'].replace(0, 'N',inplace=True)\n",
        "submission['Loan_Status'].replace(1, 'Y',inplace=True)"
      ],
      "metadata": {
        "id": "YiZs32dBL9Q3"
      },
      "execution_count": null,
      "outputs": []
    },
    {
      "cell_type": "code",
      "source": [
        "pd.DataFrame(submission, columns=['Loan_ID','Loan_Status']).to_csv('logistic.csv')"
      ],
      "metadata": {
        "id": "nvNDupOtMBR2"
      },
      "execution_count": null,
      "outputs": []
    },
    {
      "cell_type": "code",
      "source": [
        "from sklearn.model_selection import StratifiedKFold"
      ],
      "metadata": {
        "id": "RBMxFu4VMJNs"
      },
      "execution_count": null,
      "outputs": []
    },
    {
      "cell_type": "code",
      "source": [
        "i=1\n",
        "kf = StratifiedKFold(n_splits=5,random_state=1,shuffle=True)\n",
        "for train_index,test_index in kf.split(X,y):\n",
        "     print('n{} of kfold {}'.format(i,kf.n_splits))\n",
        "     xtr,xvl = X.iloc[train_index],X.iloc[test_index]\n",
        "     ytr,yvl = y.iloc[train_index],y.iloc[test_index]\n",
        "     model = LogisticRegression(random_state=1)\n",
        "     model.fit(xtr, ytr)\n",
        "     pred_test = model.predict(xvl)\n",
        "     score = accuracy_score(yvl,pred_test)\n",
        "     print('accuracy_score',score)\n",
        "     i+=1"
      ],
      "metadata": {
        "id": "uWuiN1OdMPcE"
      },
      "execution_count": null,
      "outputs": []
    },
    {
      "cell_type": "code",
      "source": [
        "pred_test = model.predict(test)\n",
        "pred=model.predict_proba(xvl)[:,1]"
      ],
      "metadata": {
        "id": "J96f3R54MlbP"
      },
      "execution_count": null,
      "outputs": []
    },
    {
      "cell_type": "code",
      "source": [
        "from sklearn import metrics\n",
        "fpr, tpr, _ = metrics.roc_curve(yvl,  pred)\n",
        "auc = metrics.roc_auc_score(yvl, pred)\n",
        "plt.figure(figsize=(12,8))\n",
        "plt.plot(fpr,tpr,label=\"validation, auc=\"+str(auc))\n",
        "plt.xlabel('False Positive Rate')\n",
        "plt.ylabel('True Positive Rate')\n",
        "plt.legend(loc=4)\n",
        "plt.show()"
      ],
      "metadata": {
        "id": "bMlzAZN3MpiE"
      },
      "execution_count": null,
      "outputs": []
    },
    {
      "cell_type": "code",
      "source": [
        "submission['Loan_Status']=pred_test\n",
        "submission['Loan_ID']=test_original['Loan_ID']"
      ],
      "metadata": {
        "id": "nCCfPum2NO1X"
      },
      "execution_count": null,
      "outputs": []
    },
    {
      "cell_type": "code",
      "source": [
        "submission['Loan_Status'].replace(0, 'N',inplace=True)\n",
        "submission['Loan_Status'].replace(1, 'Y',inplace=True)"
      ],
      "metadata": {
        "id": "irPiax48NRMs"
      },
      "execution_count": null,
      "outputs": []
    },
    {
      "cell_type": "code",
      "source": [
        "pd.DataFrame(submission, columns=['Loan_ID','Loan_Status']).to_csv('Logistic.csv')"
      ],
      "metadata": {
        "id": "BUy1PJJ1NYCv"
      },
      "execution_count": null,
      "outputs": []
    },
    {
      "cell_type": "code",
      "source": [
        "train['Total_Income']=train['ApplicantIncome']+train['CoapplicantIncome']\n",
        "test['Total_Income']=test['ApplicantIncome']+test['CoapplicantIncome']"
      ],
      "metadata": {
        "id": "wshWe2yDNdA_"
      },
      "execution_count": null,
      "outputs": []
    },
    {
      "cell_type": "code",
      "source": [
        "sns.distplot(train['Total_Income']);"
      ],
      "metadata": {
        "id": "_fhxpAB6NfC9"
      },
      "execution_count": null,
      "outputs": []
    },
    {
      "cell_type": "code",
      "source": [
        "train['Total_Income_log'] = np.log(train['Total_Income'])\n",
        "sns.distplot(train['Total_Income_log']);\n",
        "test['Total_Income_log'] = np.log(test['Total_Income'])"
      ],
      "metadata": {
        "id": "uFzzSE2aNjFf"
      },
      "execution_count": null,
      "outputs": []
    },
    {
      "cell_type": "code",
      "source": [
        "train['EMI']=train['LoanAmount']/train['Loan_Amount_Term']\n",
        "test['EMI']=test['LoanAmount']/test['Loan_Amount_Term']"
      ],
      "metadata": {
        "id": "YhYf2UdiNnfn"
      },
      "execution_count": null,
      "outputs": []
    },
    {
      "cell_type": "code",
      "source": [
        "sns.distplot(train['EMI']);"
      ],
      "metadata": {
        "id": "LbbYQwBcNtJ3"
      },
      "execution_count": null,
      "outputs": []
    },
    {
      "cell_type": "code",
      "source": [
        "train['Balance Income']=train['Total_Income']-(train['EMI']*1000)\n",
        "# Multiply with 1000 to make the units equal\n",
        "test['Balance Income']=test['Total_Income']-(test['EMI']*1000)\n",
        "sns.distplot(train['Balance Income']);"
      ],
      "metadata": {
        "id": "iRLk8zkpNxV_"
      },
      "execution_count": null,
      "outputs": []
    },
    {
      "cell_type": "code",
      "source": [
        "train=train.drop(['ApplicantIncome', 'CoapplicantIncome', 'LoanAmount',\n",
        " 'Loan_Amount_Term'], axis=1)\n",
        "test=test.drop(['ApplicantIncome', 'CoapplicantIncome', 'LoanAmount',\n",
        " 'Loan_Amount_Term'], axis=1)"
      ],
      "metadata": {
        "id": "LqQ8aGdzN1hn"
      },
      "execution_count": null,
      "outputs": []
    },
    {
      "cell_type": "code",
      "source": [
        "X = train.drop('Loan_Status',1)\n",
        "y = train.Loan_Status"
      ],
      "metadata": {
        "id": "ys2wx6ufODOf"
      },
      "execution_count": null,
      "outputs": []
    },
    {
      "cell_type": "code",
      "source": [
        "from sklearn import tree"
      ],
      "metadata": {
        "id": "9QQ8sCz1OE60"
      },
      "execution_count": null,
      "outputs": []
    },
    {
      "cell_type": "code",
      "source": [
        "i=1\n",
        "kf = StratifiedKFold(n_splits=5,random_state=1,shuffle=True)\n",
        "for train_index,test_index in kf.split(X,y):\n",
        "    print('n{} of kfold {}'.format(i,kf.n_splits))\n",
        "    xtr,xvl = X.loc[train_index],X.loc[test_index]\n",
        "    ytr,yvl = y[train_index],y[test_index]\n",
        "    model = tree.DecisionTreeClassifier(random_state=1)\n",
        "    model.fit(xtr, ytr)\n",
        "    pred_test = model.predict(xvl)\n",
        "    score = accuracy_score(yvl,pred_test)\n",
        "    print('accuracy_score',score)\n",
        "    i+=1\n",
        "pred_test = model.predict(test)"
      ],
      "metadata": {
        "id": "lJQ7IqRpOLIs"
      },
      "execution_count": null,
      "outputs": []
    },
    {
      "cell_type": "code",
      "source": [
        "submission['Loan_Status']=pred_test            # filling Loan_Status with predictions\n",
        "submission['Loan_ID']=test_original['Loan_ID'] # filling Loan_ID with test Loan_ID\n",
        "submission['Loan_Status'].replace(0, 'N',inplace=True)\n",
        "submission['Loan_Status'].replace(1, 'Y',inplace=True)\n",
        "# Converting submission file to .csv format\n",
        "pd.DataFrame(submission, columns=['Loan_ID','Loan_Status']).to_csv('Decision Tree.csv')"
      ],
      "metadata": {
        "id": "v0rS6iUlOOdM"
      },
      "execution_count": null,
      "outputs": []
    },
    {
      "cell_type": "code",
      "source": [
        "from sklearn.ensemble import RandomForestClassifier\n",
        "i=1\n",
        "kf = StratifiedKFold(n_splits=5,random_state=1,shuffle=True)\n",
        "for train_index,test_index in kf.split(X,y):\n",
        "    print('n{} of kfold {}'.format(i,kf.n_splits))\n",
        "    xtr,xvl = X.loc[train_index],X.loc[test_index]\n",
        "    ytr,yvl = y[train_index],y[test_index]\n",
        "    model = RandomForestClassifier(random_state=1, max_depth=10)\n",
        "    model.fit(xtr, ytr)\n",
        "    pred_test = model.predict(xvl)\n",
        "    score = accuracy_score(yvl,pred_test)\n",
        "    print('accuracy_score',score)\n",
        "    i+=1\n",
        "pred_test = model.predict(test)"
      ],
      "metadata": {
        "id": "x8mRuH9HOUAM"
      },
      "execution_count": null,
      "outputs": []
    },
    {
      "cell_type": "code",
      "source": [
        "from sklearn.model_selection import GridSearchCV"
      ],
      "metadata": {
        "id": "SXwljumAOdp0"
      },
      "execution_count": null,
      "outputs": []
    },
    {
      "cell_type": "code",
      "source": [
        "paramgrid = {'max_depth': list(range(1, 20, 2)),\n",
        "                    'n_estimators': list(range(1, 200, 20))}\n",
        "grid_search=GridSearchCV(RandomForestClassifier(random_state=1),paramgrid)\n",
        "from sklearn.model_selection import train_test_split\n",
        "# Fit the grid search model\n",
        "grid_search.fit(x_train,y_train)\n",
        "GridSearchCV(cv=None, error_score='raise',\n",
        "        estimator=RandomForestClassifier(bootstrap=True, class_weight=None,\n",
        "                criterion='gini', max_depth=None, max_features='auto',\n",
        "                max_leaf_nodes=None, min_impurity_decrease=0.0,\n",
        "\n",
        "min_weight_fraction_leaf=0.0, n_estimators=10, n_jobs=1, oob_score=False,\n",
        "random_state=1, verbose=0, warm_start=False),\n",
        "\n",
        "param_grid={'max_depth': [1, 3, 5, 7, 9, 11, 13, 15, 17, 19],\n",
        "     'n_estimators': [1, 21, 41, 61, 81, 101, 121, 141, 161, 181]},\n",
        "\n",
        "pre_dispatch='2*n_jobs', refit=True, return_train_score='warn',scoring=None, verbose=0)"
      ],
      "metadata": {
        "id": "mRKhi--QOjHs"
      },
      "execution_count": null,
      "outputs": []
    },
    {
      "cell_type": "code",
      "source": [
        "grid_search.best_estimator_"
      ],
      "metadata": {
        "id": "3NNv67kHP0Pk"
      },
      "execution_count": null,
      "outputs": []
    },
    {
      "cell_type": "code",
      "source": [
        "i=1\n",
        "kf = StratifiedKFold(n_splits=5,random_state=1,shuffle=True)\n",
        "for train_index,test_index in kf.split(X,y):\n",
        "    print('n{} of kfold {}'.format(i,kf.n_splits))\n",
        "    xtr,xvl = X.loc[train_index],X.loc[test_index]\n",
        "    ytr,yvl = y[train_index],y[test_index]\n",
        "    model = RandomForestClassifier(random_state=1, max_depth=3, n_estimators=41)\n",
        "    model.fit(xtr, ytr)\n",
        "    pred_test = model.predict(xvl)\n",
        "    score = accuracy_score(yvl,pred_test)\n",
        "    print('accuracy_score',score)\n",
        "    i+=1\n",
        "\n",
        "pred_test = model.predict(test)\n"
      ],
      "metadata": {
        "id": "YsHuqooAP63F"
      },
      "execution_count": null,
      "outputs": []
    },
    {
      "cell_type": "code",
      "source": [
        "\n",
        "\n",
        "submission['Loan_Status']=pred_test            # filling Loan_Status with predictions\n",
        "submission['Loan_ID']=test_original['Loan_ID'] # filling Loan_ID with test Loan_ID\n",
        "submission['Loan_Status'].replace(0, 'N',inplace=True)\n",
        "submission['Loan_Status'].replace(1, 'Y',inplace=True)\n",
        "# Converting submission file to .csv format\n",
        "pd.DataFrame(submission, columns=['Loan_ID','Loan_Status']).to_csv('Random  Forest.csv')"
      ],
      "metadata": {
        "id": "tLhQR-YUQQqE"
      },
      "execution_count": null,
      "outputs": []
    },
    {
      "cell_type": "code",
      "source": [
        "importances=pd.Series(model.feature_importances_, index=X.columns)\n",
        "importances.plot(kind='barh', figsize=(12,8))"
      ],
      "metadata": {
        "id": "rPv7xRS6QVD9"
      },
      "execution_count": null,
      "outputs": []
    },
    {
      "cell_type": "code",
      "source": [
        "from xgboost import XGBClassifier\n",
        "i=1\n",
        "kf = StratifiedKFold(n_splits=5,random_state=1,shuffle=True)\n",
        "for train_index,test_index in kf.split(X,y):\n",
        "    print('n{} of kfold {}'.format(i,kf.n_splits))\n",
        "    xtr,xvl = X.loc[train_index],X.loc[test_index]\n",
        "    ytr,yvl = y[train_index],y[test_index]\n",
        "    model = XGBClassifier(n_estimators=50, max_depth=4)\n",
        "    model.fit(xtr, ytr)\n",
        "    pred_test = model.predict(xvl)\n",
        "    score = accuracy_score(yvl,pred_test)\n",
        "    print('accuracy_score',score)\n",
        "    i+=1\n",
        "pred_test = model.predict(test)\n"
      ],
      "metadata": {
        "id": "xu8RcGS0QXm0"
      },
      "execution_count": null,
      "outputs": []
    },
    {
      "cell_type": "code",
      "source": [
        "submission['Loan_Status']=pred_test            # filling Loan_Status with predictions\n",
        "submission['Loan_ID']=test_original['Loan_ID'] # filling Loan_ID with test Loan_ID\n",
        "submission['Loan_Status'].replace(0, 'N',inplace=True)\n",
        "submission['Loan_Status'].replace(1, 'Y',inplace=True)\n",
        "# Converting submission file to .csv format\n",
        "pd.DataFrame(submission, columns=['Loan_ID','Loan_Status']).to_csv('XGBoost.csv')"
      ],
      "metadata": {
        "id": "NxjcpHESQmdO"
      },
      "execution_count": null,
      "outputs": []
    },
    {
      "cell_type": "code",
      "source": [
        "from google.colab import files\n",
        "files.download('logistic.csv')"
      ],
      "metadata": {
        "id": "EJ6lZb4LTt8s"
      },
      "execution_count": null,
      "outputs": []
    }
  ]
}